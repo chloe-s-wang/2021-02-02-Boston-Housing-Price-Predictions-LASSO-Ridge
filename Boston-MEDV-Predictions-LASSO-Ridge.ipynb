{
 "cells": [
  {
   "cell_type": "markdown",
   "metadata": {},
   "source": [
    "### Copyright © 2021, Chloe Wang"
   ]
  },
  {
   "cell_type": "markdown",
   "metadata": {},
   "source": [
    "### Summary of Results"
   ]
  },
  {
   "cell_type": "markdown",
   "metadata": {},
   "source": [
    "Test accuracy:\\\n",
    "MSE: 0.790\\\n",
    "R-sq: 0.260\n",
    "\n",
    "Validation accuracy:\\\n",
    "MSE: 0.930\\\n",
    "R-sq: 0.225"
   ]
  },
  {
   "cell_type": "markdown",
   "metadata": {},
   "source": [
    "# Code"
   ]
  },
  {
   "cell_type": "code",
   "execution_count": 2,
   "metadata": {
    "id": "o2gietO7TyE5"
   },
   "outputs": [],
   "source": [
    "# Importing libraries \n",
    "import pandas as pd # deals with tabular data\n",
    "import numpy as np # lets you do math operations on arrays (a 1xn list)\n",
    "import matplotlib.pyplot as plt # a base library for plotting\n",
    "import seaborn as sns # also a library for plotting but adds to base library, makes plots nicer\n",
    "\n",
    "from sklearn.preprocessing import StandardScaler # scales your data (z-score), min max values fr. -1 to 1, with mean 0\n",
    "from sklearn.model_selection import cross_val_score, train_test_split # calculates CV score, and splits your data into training and validation sets\n",
    "from sklearn.linear_model import LinearRegression, Lasso, Ridge, ElasticNet # functions to build LASSO and Ridge models \n",
    "from sklearn.metrics import mean_squared_error, r2_score # functions to calculate MSEs and R-sqrd"
   ]
  },
  {
   "cell_type": "markdown",
   "metadata": {
    "id": "noAYKmCmVEmp"
   },
   "source": [
    "# Loading Data"
   ]
  },
  {
   "cell_type": "code",
   "execution_count": 3,
   "metadata": {
    "id": "CJRppmFYT_7o"
   },
   "outputs": [],
   "source": [
    "# loading the training data\n",
    "df = pd.read_csv(\"C:\\\\Users\\\\s64wa\\\\Dropbox\\\\Dropbox\\\\1_Chloe's Content\\\\1. UW\\\\2. Graduate\\\\5. 2021 Winter\\\\5. Econ 626 - Machine Learning for Economics\\\\4Z. midterm1_trainingdata (1).csv\")"
   ]
  },
  {
   "cell_type": "markdown",
   "metadata": {
    "id": "mV1PMQMuWRrb"
   },
   "source": [
    "# Exploratory Data Analysis (EDA)"
   ]
  },
  {
   "cell_type": "code",
   "execution_count": 4,
   "metadata": {
    "colab": {
     "base_uri": "https://localhost:8080/"
    },
    "id": "uoH2RAZoZgog",
    "outputId": "7beb49d4-e211-4843-92e1-e9c201d44816",
    "scrolled": true
   },
   "outputs": [
    {
     "data": {
      "text/plain": [
       "(19999, 14)"
      ]
     },
     "execution_count": 4,
     "metadata": {},
     "output_type": "execute_result"
    }
   ],
   "source": [
    "# shape of the data\n",
    "df.shape # looks at # observations and # columns in the dataframe (table)"
   ]
  },
  {
   "cell_type": "code",
   "execution_count": 5,
   "metadata": {
    "colab": {
     "base_uri": "https://localhost:8080/",
     "height": 297
    },
    "id": "XkB4_HZbWT1g",
    "outputId": "cbc8ac5f-63ec-4eca-cb78-55fefeb8b8ea",
    "scrolled": true
   },
   "outputs": [
    {
     "data": {
      "text/html": [
       "<div>\n",
       "<style scoped>\n",
       "    .dataframe tbody tr th:only-of-type {\n",
       "        vertical-align: middle;\n",
       "    }\n",
       "\n",
       "    .dataframe tbody tr th {\n",
       "        vertical-align: top;\n",
       "    }\n",
       "\n",
       "    .dataframe thead th {\n",
       "        text-align: right;\n",
       "    }\n",
       "</style>\n",
       "<table border=\"1\" class=\"dataframe\">\n",
       "  <thead>\n",
       "    <tr style=\"text-align: right;\">\n",
       "      <th></th>\n",
       "      <th>LOGVALUE</th>\n",
       "      <th>BATHS</th>\n",
       "      <th>BEDRMS</th>\n",
       "      <th>BUILT</th>\n",
       "      <th>UNITSF</th>\n",
       "      <th>LOT</th>\n",
       "      <th>ROOMS</th>\n",
       "      <th>REGION</th>\n",
       "      <th>KITCHEN</th>\n",
       "      <th>FLOORS</th>\n",
       "      <th>LAUNDY</th>\n",
       "      <th>RECRM</th>\n",
       "      <th>METRO</th>\n",
       "      <th>METRO3</th>\n",
       "    </tr>\n",
       "  </thead>\n",
       "  <tbody>\n",
       "    <tr>\n",
       "      <th>count</th>\n",
       "      <td>19999.000000</td>\n",
       "      <td>19999.000000</td>\n",
       "      <td>19999.000000</td>\n",
       "      <td>19999.000000</td>\n",
       "      <td>19999.000000</td>\n",
       "      <td>19999.000000</td>\n",
       "      <td>19999.000000</td>\n",
       "      <td>19999.000000</td>\n",
       "      <td>19999.000000</td>\n",
       "      <td>19999.000000</td>\n",
       "      <td>19999.00000</td>\n",
       "      <td>19999.000000</td>\n",
       "      <td>19999.000000</td>\n",
       "      <td>19999.000000</td>\n",
       "    </tr>\n",
       "    <tr>\n",
       "      <th>mean</th>\n",
       "      <td>12.054003</td>\n",
       "      <td>1.915196</td>\n",
       "      <td>3.207610</td>\n",
       "      <td>1970.747587</td>\n",
       "      <td>2339.850528</td>\n",
       "      <td>44339.419240</td>\n",
       "      <td>6.571029</td>\n",
       "      <td>2.842342</td>\n",
       "      <td>1.005350</td>\n",
       "      <td>1.931947</td>\n",
       "      <td>0.39192</td>\n",
       "      <td>0.073954</td>\n",
       "      <td>5.664483</td>\n",
       "      <td>1.886644</td>\n",
       "    </tr>\n",
       "    <tr>\n",
       "      <th>std</th>\n",
       "      <td>1.093036</td>\n",
       "      <td>0.779724</td>\n",
       "      <td>0.872225</td>\n",
       "      <td>25.543423</td>\n",
       "      <td>1969.763693</td>\n",
       "      <td>114513.834797</td>\n",
       "      <td>1.684882</td>\n",
       "      <td>1.007669</td>\n",
       "      <td>0.072951</td>\n",
       "      <td>1.033308</td>\n",
       "      <td>0.53957</td>\n",
       "      <td>0.271272</td>\n",
       "      <td>2.464029</td>\n",
       "      <td>1.010843</td>\n",
       "    </tr>\n",
       "    <tr>\n",
       "      <th>min</th>\n",
       "      <td>0.000000</td>\n",
       "      <td>0.000000</td>\n",
       "      <td>0.000000</td>\n",
       "      <td>1919.000000</td>\n",
       "      <td>99.000000</td>\n",
       "      <td>200.000000</td>\n",
       "      <td>2.000000</td>\n",
       "      <td>1.000000</td>\n",
       "      <td>1.000000</td>\n",
       "      <td>1.000000</td>\n",
       "      <td>0.00000</td>\n",
       "      <td>0.000000</td>\n",
       "      <td>1.000000</td>\n",
       "      <td>1.000000</td>\n",
       "    </tr>\n",
       "    <tr>\n",
       "      <th>25%</th>\n",
       "      <td>11.512925</td>\n",
       "      <td>1.000000</td>\n",
       "      <td>3.000000</td>\n",
       "      <td>1950.000000</td>\n",
       "      <td>1400.000000</td>\n",
       "      <td>6000.000000</td>\n",
       "      <td>5.000000</td>\n",
       "      <td>2.000000</td>\n",
       "      <td>1.000000</td>\n",
       "      <td>1.000000</td>\n",
       "      <td>0.00000</td>\n",
       "      <td>0.000000</td>\n",
       "      <td>7.000000</td>\n",
       "      <td>2.000000</td>\n",
       "    </tr>\n",
       "    <tr>\n",
       "      <th>50%</th>\n",
       "      <td>12.100712</td>\n",
       "      <td>2.000000</td>\n",
       "      <td>3.000000</td>\n",
       "      <td>1975.000000</td>\n",
       "      <td>2000.000000</td>\n",
       "      <td>11000.000000</td>\n",
       "      <td>6.000000</td>\n",
       "      <td>3.000000</td>\n",
       "      <td>1.000000</td>\n",
       "      <td>2.000000</td>\n",
       "      <td>0.00000</td>\n",
       "      <td>0.000000</td>\n",
       "      <td>7.000000</td>\n",
       "      <td>2.000000</td>\n",
       "    </tr>\n",
       "    <tr>\n",
       "      <th>75%</th>\n",
       "      <td>12.611538</td>\n",
       "      <td>2.000000</td>\n",
       "      <td>4.000000</td>\n",
       "      <td>1990.000000</td>\n",
       "      <td>2487.000000</td>\n",
       "      <td>43925.933653</td>\n",
       "      <td>8.000000</td>\n",
       "      <td>4.000000</td>\n",
       "      <td>1.000000</td>\n",
       "      <td>2.000000</td>\n",
       "      <td>1.00000</td>\n",
       "      <td>0.000000</td>\n",
       "      <td>7.000000</td>\n",
       "      <td>2.000000</td>\n",
       "    </tr>\n",
       "    <tr>\n",
       "      <th>max</th>\n",
       "      <td>15.476535</td>\n",
       "      <td>10.000000</td>\n",
       "      <td>8.000000</td>\n",
       "      <td>2011.000000</td>\n",
       "      <td>20159.000000</td>\n",
       "      <td>933185.000000</td>\n",
       "      <td>15.000000</td>\n",
       "      <td>4.000000</td>\n",
       "      <td>2.000000</td>\n",
       "      <td>21.000000</td>\n",
       "      <td>5.00000</td>\n",
       "      <td>3.000000</td>\n",
       "      <td>7.000000</td>\n",
       "      <td>9.000000</td>\n",
       "    </tr>\n",
       "  </tbody>\n",
       "</table>\n",
       "</div>"
      ],
      "text/plain": [
       "           LOGVALUE         BATHS        BEDRMS         BUILT        UNITSF  \\\n",
       "count  19999.000000  19999.000000  19999.000000  19999.000000  19999.000000   \n",
       "mean      12.054003      1.915196      3.207610   1970.747587   2339.850528   \n",
       "std        1.093036      0.779724      0.872225     25.543423   1969.763693   \n",
       "min        0.000000      0.000000      0.000000   1919.000000     99.000000   \n",
       "25%       11.512925      1.000000      3.000000   1950.000000   1400.000000   \n",
       "50%       12.100712      2.000000      3.000000   1975.000000   2000.000000   \n",
       "75%       12.611538      2.000000      4.000000   1990.000000   2487.000000   \n",
       "max       15.476535     10.000000      8.000000   2011.000000  20159.000000   \n",
       "\n",
       "                 LOT         ROOMS        REGION       KITCHEN        FLOORS  \\\n",
       "count   19999.000000  19999.000000  19999.000000  19999.000000  19999.000000   \n",
       "mean    44339.419240      6.571029      2.842342      1.005350      1.931947   \n",
       "std    114513.834797      1.684882      1.007669      0.072951      1.033308   \n",
       "min       200.000000      2.000000      1.000000      1.000000      1.000000   \n",
       "25%      6000.000000      5.000000      2.000000      1.000000      1.000000   \n",
       "50%     11000.000000      6.000000      3.000000      1.000000      2.000000   \n",
       "75%     43925.933653      8.000000      4.000000      1.000000      2.000000   \n",
       "max    933185.000000     15.000000      4.000000      2.000000     21.000000   \n",
       "\n",
       "            LAUNDY         RECRM         METRO        METRO3  \n",
       "count  19999.00000  19999.000000  19999.000000  19999.000000  \n",
       "mean       0.39192      0.073954      5.664483      1.886644  \n",
       "std        0.53957      0.271272      2.464029      1.010843  \n",
       "min        0.00000      0.000000      1.000000      1.000000  \n",
       "25%        0.00000      0.000000      7.000000      2.000000  \n",
       "50%        0.00000      0.000000      7.000000      2.000000  \n",
       "75%        1.00000      0.000000      7.000000      2.000000  \n",
       "max        5.00000      3.000000      7.000000      9.000000  "
      ]
     },
     "execution_count": 5,
     "metadata": {},
     "output_type": "execute_result"
    }
   ],
   "source": [
    "# looking at the some statistics for the data\n",
    "df.describe()"
   ]
  },
  {
   "cell_type": "code",
   "execution_count": 6,
   "metadata": {},
   "outputs": [
    {
     "data": {
      "text/plain": [
       "LOGVALUE    0\n",
       "BATHS       0\n",
       "BEDRMS      0\n",
       "BUILT       0\n",
       "UNITSF      0\n",
       "LOT         0\n",
       "ROOMS       0\n",
       "REGION      0\n",
       "KITCHEN     0\n",
       "FLOORS      0\n",
       "LAUNDY      0\n",
       "RECRM       0\n",
       "METRO       0\n",
       "METRO3      0\n",
       "dtype: int64"
      ]
     },
     "execution_count": 6,
     "metadata": {},
     "output_type": "execute_result"
    }
   ],
   "source": [
    "# looks to see if we have any missing data\n",
    "df.isna().sum()"
   ]
  },
  {
   "cell_type": "markdown",
   "metadata": {
    "id": "PE_7Jy-8W7Wo"
   },
   "source": [
    "From the above, we can conclude that there isn't any missing values. Let's explore some of the outliers though to see if they make sense."
   ]
  },
  {
   "cell_type": "code",
   "execution_count": 7,
   "metadata": {
    "colab": {
     "base_uri": "https://localhost:8080/",
     "height": 764
    },
    "id": "9USDvo5kWemg",
    "outputId": "ac798ff9-5c53-4776-d234-e25f8ec1411b"
   },
   "outputs": [
    {
     "data": {
      "text/plain": [
       "<matplotlib.axes._subplots.AxesSubplot at 0x2055be21b80>"
      ]
     },
     "execution_count": 7,
     "metadata": {},
     "output_type": "execute_result"
    },
    {
     "data": {
      "image/png": "[encoded data removed]",
      "text/plain": [
       "<Figure size 864x864 with 2 Axes>"
      ]
     },
     "metadata": {
      "needs_background": "light"
     },
     "output_type": "display_data"
    }
   ],
   "source": [
    "# let's look at the correlation heat map to look at correlation of variables\n",
    "plt.figure(figsize = (12, 12)) # plot the figure \n",
    "sns.heatmap(df.corr(), vmin = -1, vmax= 1, center = 0 , cmap = 'RdBu', annot=True) # plots a heat map of the correlation"
   ]
  },
  {
   "cell_type": "code",
   "execution_count": 8,
   "metadata": {
    "colab": {
     "base_uri": "https://localhost:8080/"
    },
    "id": "GpjzViClcRza",
    "outputId": "8ae4a9a7-fb9f-4aab-fe2f-782a73f551e7"
   },
   "outputs": [],
   "source": [
    "# We can also try looking at the Variation Inflation Factor (VIF)\n",
    "# https://towardsdatascience.com/how-to-detect-and-deal-with-multicollinearity-9e02b18695f1\n",
    "# from statsmodels.stats.outliers_influence import variance_inflation_factor"
   ]
  },
  {
   "cell_type": "markdown",
   "metadata": {
    "id": "b_35CevoUhrK"
   },
   "source": [
    "# Pre-processing"
   ]
  },
  {
   "cell_type": "code",
   "execution_count": 9,
   "metadata": {
    "colab": {
     "base_uri": "https://localhost:8080/"
    },
    "id": "XkjGNMN1E4uv",
    "outputId": "15e37de4-e287-4eb5-f245-2b52b920db54"
   },
   "outputs": [
    {
     "data": {
      "text/plain": [
       "Index(['LOGVALUE', 'BATHS', 'BEDRMS', 'BUILT', 'UNITSF', 'LOT', 'ROOMS',\n",
       "       'REGION', 'KITCHEN', 'FLOORS', 'LAUNDY', 'RECRM', 'METRO', 'METRO3'],\n",
       "      dtype='object')"
      ]
     },
     "execution_count": 9,
     "metadata": {},
     "output_type": "execute_result"
    }
   ],
   "source": [
    "# looking at the columns\n",
    "df.columns"
   ]
  },
  {
   "cell_type": "code",
   "execution_count": 10,
   "metadata": {
    "id": "TlICIt59Vj8w"
   },
   "outputs": [],
   "source": [
    "# splitting the data into X and y\n",
    "X = df.loc[:, 'BATHS':] # all rows, and columns from BATHS onwards, loc lets you do that\n",
    "y = df['LOGVALUE']\n",
    "\n",
    "# splitting the data into training and validation set \n",
    "X_train, X_test, y_train, y_test = train_test_split(X, y, test_size = 0.3, random_state = 42) # 70% training data 30% test data"
   ]
  },
  {
   "cell_type": "markdown",
   "metadata": {
    "id": "hfDvcREMERHt"
   },
   "source": [
    "# Itertools Method"
   ]
  },
  {
   "cell_type": "code",
   "execution_count": 11,
   "metadata": {},
   "outputs": [],
   "source": [
    "# Running different feature combinations to see which one provides the lowest MSE but it was too computationally intensive and took too long to run (did not complete)"
   ]
  },
  {
   "cell_type": "code",
   "execution_count": 12,
   "metadata": {
    "colab": {
     "base_uri": "https://localhost:8080/",
     "height": 374
    },
    "id": "L8QodxKQ4zTb",
    "outputId": "ab430276-1969-4c3d-a663-3fa916c0f5a1",
    "scrolled": true
   },
   "outputs": [],
   "source": [
    "# import itertools # library to iterate through lists\n",
    "# cols = df.columns[1:] # all columns besides log value \n",
    "# combinations = {} # create a dictionary (maps some key to some value) for combinations\n",
    "# combination_score = [] # to store the combination/MSE score\n",
    "# for L in range(0, len(cols)+1): # running a for loop from 0 to length of columns we have\n",
    "#   for idx, subset in enumerate(itertools.permutations(cols, L)): # function creates permuations, loops through number of combinations\n",
    "#           combinations[idx] = subset # storing the index of combination set we're using with the combination\n",
    "          \n",
    "#           lm = LinearRegression() # assigning linear regression function to lm\n",
    "          \n",
    "#           temp_mse = cross_val_score(lm, X_train.loc[:, subset], y_train, cv=5, scoring='neg_mean_squared_error') # calculating the CV score with 5-fold validation\n",
    "\n",
    "#           combination_score.append(np.mean(abs(temp_mse))) # adding the average MSE to the list"
   ]
  },
  {
   "cell_type": "markdown",
   "metadata": {
    "id": "HKQARfJB4_dd"
   },
   "source": [
    "Other things to try:\n",
    "* Normalize data\n",
    "* Standard Scalar"
   ]
  },
  {
   "cell_type": "markdown",
   "metadata": {
    "id": "8sUZl2cmZFsr"
   },
   "source": [
    "# Model Fitting"
   ]
  },
  {
   "cell_type": "markdown",
   "metadata": {
    "id": "7A6k3y6aZMuZ"
   },
   "source": [
    "Let's try to build a couple of models to see how they fare against each other. We also want to try building a simple linear model to use as a baseline to know if our Lasso and Ridge models are doing better than them. The simple linear model will just fit the data as is w/o any feature selection/engineering.\n",
    "\n",
    "The data will be split 70/30 train/test."
   ]
  },
  {
   "cell_type": "markdown",
   "metadata": {
    "id": "FUyW-gbFZKf4"
   },
   "source": [
    "## Linear Regression"
   ]
  },
  {
   "cell_type": "code",
   "execution_count": 13,
   "metadata": {
    "colab": {
     "base_uri": "https://localhost:8080/"
    },
    "id": "irWxSI0oWOx-",
    "outputId": "4101f793-029d-4810-860d-2dd22554e53a"
   },
   "outputs": [
    {
     "data": {
      "text/plain": [
       "LinearRegression()"
      ]
     },
     "execution_count": 13,
     "metadata": {},
     "output_type": "execute_result"
    }
   ],
   "source": [
    "# Let's try build a simple linear regression as the baseline\n",
    "lm = LinearRegression()\n",
    "\n",
    "# fitting the model\n",
    "lm.fit(X_train, y_train)"
   ]
  },
  {
   "cell_type": "code",
   "execution_count": 14,
   "metadata": {
    "colab": {
     "base_uri": "https://localhost:8080/"
    },
    "id": "FxR1erlVXvAA",
    "outputId": "6b579826-170c-4757-cb71-8e7b8198da1c"
   },
   "outputs": [
    {
     "name": "stdout",
     "output_type": "stream",
     "text": [
      "Linear Model Train MSE: 0.9187974332066167\n",
      "Linear Model Test MSE: 0.9297017499006193\n"
     ]
    }
   ],
   "source": [
    "# let's look at the prediction scores\n",
    "# predicting on the training and testing data\n",
    "y_train_pred_lm = lm.predict(X_train)\n",
    "y_test_pred_lm = lm.predict(X_test)\n",
    "\n",
    "# calculate MSE scores\n",
    "lm_mse_train = mean_squared_error(y_train, y_train_pred_lm)\n",
    "lm_mse_test = mean_squared_error(y_test, y_test_pred_lm)\n",
    "\n",
    "# displaying the scores\n",
    "print(f'Linear Model Train MSE: {lm_mse_train}')\n",
    "print(f'Linear Model Test MSE: {lm_mse_test}')"
   ]
  },
  {
   "cell_type": "markdown",
   "metadata": {
    "id": "qAd0btU3YTvJ"
   },
   "source": [
    "The linear model returns really low MSEs (0.91) and may be tough to beat with the Lasso and Ridge models."
   ]
  },
  {
   "cell_type": "markdown",
   "metadata": {},
   "source": [
    "## Standardizing our data"
   ]
  },
  {
   "cell_type": "code",
   "execution_count": 15,
   "metadata": {},
   "outputs": [],
   "source": [
    "# Now let's try standardizing all predictors to make our results scale-invariant, we only need to do this once\n",
    "scaler = StandardScaler() # defines our scaler function\n",
    "\n",
    "# fit scaler to values of X of trianing data and standardizing it\n",
    "X_train_scale = scaler.fit_transform(X_train) # fit model on training set\n",
    "\n",
    "# standardizing our test data\n",
    "X_test_scale = scaler.transform(X_test)\n"
   ]
  },
  {
   "cell_type": "code",
   "execution_count": 16,
   "metadata": {},
   "outputs": [
    {
     "data": {
      "text/plain": [
       "LinearRegression()"
      ]
     },
     "execution_count": 16,
     "metadata": {},
     "output_type": "execute_result"
    }
   ],
   "source": [
    "# using the standardized data, calculate a linear regression\n",
    "lm_scale = LinearRegression()\n",
    "\n",
    "# fitting the model\n",
    "lm_scale.fit(X_train_scale, y_train)"
   ]
  },
  {
   "cell_type": "code",
   "execution_count": 17,
   "metadata": {},
   "outputs": [
    {
     "name": "stdout",
     "output_type": "stream",
     "text": [
      "Linear Model Train MSE: 0.9187974332066167\n",
      "Linear Model Test MSE: 0.9297017499006015\n"
     ]
    }
   ],
   "source": [
    "# let's look at the prediction scores for the standardized data\n",
    "# predicting on the training and testing data\n",
    "y_train_pred_lm_scale = lm_scale.predict(X_train_scale)\n",
    "y_test_pred_lm_scale = lm_scale.predict(X_test_scale)\n",
    "\n",
    "# calculate MSE scores\n",
    "lm_mse_train_scale = mean_squared_error(y_train, y_train_pred_lm_scale)\n",
    "lm_mse_test_scale = mean_squared_error(y_test, y_test_pred_lm_scale)\n",
    "\n",
    "# displaying the scores\n",
    "print(f'Linear Model Train MSE: {lm_mse_train_scale}')\n",
    "print(f'Linear Model Test MSE: {lm_mse_test_scale}')"
   ]
  },
  {
   "cell_type": "markdown",
   "metadata": {},
   "source": [
    "When we standardize the data for the linear model, the MSEs are about the same. "
   ]
  },
  {
   "cell_type": "markdown",
   "metadata": {
    "id": "P6mKXciAY3ov"
   },
   "source": [
    "## Lasso Regression"
   ]
  },
  {
   "cell_type": "code",
   "execution_count": 18,
   "metadata": {
    "colab": {
     "base_uri": "https://localhost:8080/"
    },
    "id": "BS97_6wVaJtn",
    "outputId": "2e42c117-09c6-4e16-d4ce-73da249925e0"
   },
   "outputs": [
    {
     "data": {
      "text/plain": [
       "Lasso(alpha=1, random_state=42)"
      ]
     },
     "execution_count": 18,
     "metadata": {},
     "output_type": "execute_result"
    }
   ],
   "source": [
    "# setting up lasso model\n",
    "lasso = Lasso(alpha = 1, random_state = 42) # setting alpha=1 (which is our \"lambda\") to see what it spits out and random state of 41 so we can replicate the results\n",
    "\n",
    "# fitting lasso model\n",
    "lasso.fit(X_train, y_train) # fits our model to the training data (best fit)"
   ]
  },
  {
   "cell_type": "code",
   "execution_count": 19,
   "metadata": {
    "colab": {
     "base_uri": "https://localhost:8080/"
    },
    "id": "ihPTwGfvaYs_",
    "outputId": "957bdfb5-1f5e-4cdf-a7f0-819ff81b832b"
   },
   "outputs": [
    {
     "name": "stdout",
     "output_type": "stream",
     "text": [
      "Lasso Model Train MSE: 1.122816891925564\n",
      "Lasso Model Test MSE: 1.1336216534614156\n"
     ]
    }
   ],
   "source": [
    "# let's look at the prediction scores\n",
    "# predicting on the training and testing data, y-hats\n",
    "y_train_pred_lasso = lasso.predict(X_train) # train set\n",
    "y_test_pred_lasso = lasso.predict(X_test) # test set\n",
    "\n",
    "# calculating MSE scores for LASSO\n",
    "lasso_mse_train = mean_squared_error(y_train, y_train_pred_lasso) # train set\n",
    "lasso_mse_test = mean_squared_error(y_test, y_test_pred_lasso) # test set\n",
    "\n",
    "# printing the scores\n",
    "print(f'Lasso Model Train MSE: {lasso_mse_train}')\n",
    "print(f'Lasso Model Test MSE: {lasso_mse_test}')"
   ]
  },
  {
   "cell_type": "markdown",
   "metadata": {
    "id": "LCZvtO_2al8Q"
   },
   "source": [
    "Out of the box, the lasso model does worse than our simple linear model. We will need to go back and tune the parameters on this."
   ]
  },
  {
   "cell_type": "markdown",
   "metadata": {
    "id": "P6mKXciAY3ov"
   },
   "source": [
    "## Now using standardized data"
   ]
  },
  {
   "cell_type": "code",
   "execution_count": 20,
   "metadata": {},
   "outputs": [
    {
     "data": {
      "text/plain": [
       "Lasso(alpha=1, random_state=42)"
      ]
     },
     "execution_count": 20,
     "metadata": {},
     "output_type": "execute_result"
    }
   ],
   "source": [
    "# setting up lasso model using standardized data\n",
    "lasso_scale = Lasso(alpha = 1, random_state = 42) # setting alpha=1 (which is our \"lambda\") to see what it spits out and random state of 41 so we can replicate the results\n",
    "\n",
    "# fitting lasso model\n",
    "lasso_scale.fit(X_train_scale, y_train) # fits our model to the training data (best fit)"
   ]
  },
  {
   "cell_type": "code",
   "execution_count": 21,
   "metadata": {},
   "outputs": [
    {
     "name": "stdout",
     "output_type": "stream",
     "text": [
      "Lasso Model Train MSE: 1.192454438497368\n",
      "Lasso Model Test MSE: 1.1998536212464497\n"
     ]
    }
   ],
   "source": [
    "# let's look at the prediction scores using standardized data\n",
    "# predicting on the training and testing data, y-hats\n",
    "y_train_pred_lasso_scale = lasso_scale.predict(X_train_scale) # train set\n",
    "y_test_pred_lasso_scale = lasso_scale.predict(X_test_scale) # test set\n",
    "\n",
    "# calculating MSE scores for LASSO\n",
    "lasso_mse_train_scale = mean_squared_error(y_train, y_train_pred_lasso_scale) # train set\n",
    "lasso_mse_test_scale = mean_squared_error(y_test, y_test_pred_lasso_scale) # test set\n",
    "\n",
    "# printing the scores\n",
    "print(f'Lasso Model Train MSE: {lasso_mse_train_scale}')\n",
    "print(f'Lasso Model Test MSE: {lasso_mse_test_scale}')"
   ]
  },
  {
   "cell_type": "markdown",
   "metadata": {},
   "source": [
    "When we standardize the data for the LASSO model, the MSEs are worse."
   ]
  },
  {
   "cell_type": "markdown",
   "metadata": {
    "id": "AfjfvMyvav1G"
   },
   "source": [
    "## Ridge Regression"
   ]
  },
  {
   "cell_type": "code",
   "execution_count": 22,
   "metadata": {
    "colab": {
     "base_uri": "https://localhost:8080/"
    },
    "id": "deg9Oof4axeV",
    "outputId": "3d0e98ca-e47d-47ad-ab2e-5d0fb9921505",
    "scrolled": true
   },
   "outputs": [
    {
     "data": {
      "text/plain": [
       "Ridge(alpha=1, random_state=42)"
      ]
     },
     "execution_count": 22,
     "metadata": {},
     "output_type": "execute_result"
    }
   ],
   "source": [
    "# setting up ridge model\n",
    "ridge = Ridge(alpha = 1, random_state = 42) # same as above, for but Ridge setting alpha=1 and random state=42\n",
    "\n",
    "# fitting lasso model\n",
    "ridge.fit(X_train, y_train) # best fit"
   ]
  },
  {
   "cell_type": "code",
   "execution_count": 23,
   "metadata": {
    "colab": {
     "base_uri": "https://localhost:8080/"
    },
    "id": "0ZxrYeiya1xC",
    "outputId": "1773550c-85ae-4911-b520-6f1392c77ec7"
   },
   "outputs": [
    {
     "name": "stdout",
     "output_type": "stream",
     "text": [
      "Ridge Model Train MSE: 0.9187974698920249\n",
      "Ridge Model Test MSE: 0.9296960425539627\n"
     ]
    }
   ],
   "source": [
    "# let's look at the prediction scores\n",
    "# predicting on the training and testing data, y-hats\n",
    "y_train_pred_ridge = ridge.predict(X_train)\n",
    "y_test_pred_ridge = ridge.predict(X_test)\n",
    "\n",
    "# calculating MSE scores\n",
    "ridge_mse_train = mean_squared_error(y_train, y_train_pred_ridge)\n",
    "ridge_mse_test = mean_squared_error(y_test, y_test_pred_ridge)\n",
    "\n",
    "# displaying the scores\n",
    "print(f'Ridge Model Train MSE: {ridge_mse_train}')\n",
    "print(f'Ridge Model Test MSE: {ridge_mse_test}')"
   ]
  },
  {
   "cell_type": "markdown",
   "metadata": {
    "id": "nENhHq65bJq8"
   },
   "source": [
    "The ridge regression is a bit better than the linear model and may overall be the best model when we tune the parameters."
   ]
  },
  {
   "cell_type": "markdown",
   "metadata": {
    "id": "P6mKXciAY3ov"
   },
   "source": [
    "## Now using standardized data"
   ]
  },
  {
   "cell_type": "code",
   "execution_count": 24,
   "metadata": {},
   "outputs": [
    {
     "data": {
      "text/plain": [
       "Ridge(alpha=1, random_state=42)"
      ]
     },
     "execution_count": 24,
     "metadata": {},
     "output_type": "execute_result"
    }
   ],
   "source": [
    "# setting up ridge model with standardized data\n",
    "ridge_scale = Ridge(alpha = 1, random_state = 42) # same as above, for but Ridge setting alpha=1 and random state=42\n",
    "\n",
    "# fitting lasso model\n",
    "ridge_scale.fit(X_train_scale, y_train) # best fit"
   ]
  },
  {
   "cell_type": "code",
   "execution_count": 25,
   "metadata": {},
   "outputs": [
    {
     "name": "stdout",
     "output_type": "stream",
     "text": [
      "Ridge Model Train MSE: 0.9187974348615554\n",
      "Ridge Model Test MSE: 0.9297009245646635\n"
     ]
    }
   ],
   "source": [
    "# let's look at the prediction scores with standardized data\n",
    "# predicting on the training and testing data, y-hats\n",
    "y_train_pred_ridge_scale = ridge_scale.predict(X_train_scale)\n",
    "y_test_pred_ridge_scale = ridge_scale.predict(X_test_scale)\n",
    "\n",
    "# calculating MSE scores\n",
    "ridge_mse_train_scale = mean_squared_error(y_train, y_train_pred_ridge_scale)\n",
    "ridge_mse_test_scale = mean_squared_error(y_test, y_test_pred_ridge_scale)\n",
    "\n",
    "# displaying the scores\n",
    "print(f'Ridge Model Train MSE: {ridge_mse_train_scale}')\n",
    "print(f'Ridge Model Test MSE: {ridge_mse_test_scale}')"
   ]
  },
  {
   "cell_type": "markdown",
   "metadata": {},
   "source": [
    "When we standardize the data for the Ridge model, the MSEs are slightly worse.\n",
    "\n",
    "**Conclusion**: standardizing our data does not improve our MSE scores. Let's tune our parameters without the standardized data."
   ]
  },
  {
   "cell_type": "markdown",
   "metadata": {
    "id": "h22dO7C8bSE-"
   },
   "source": [
    "# Hyperparameter Tuning"
   ]
  },
  {
   "cell_type": "markdown",
   "metadata": {},
   "source": [
    "Playing around to see which alpha provides the best MSE using CV"
   ]
  },
  {
   "cell_type": "markdown",
   "metadata": {
    "id": "6cU3yGTg1JGa"
   },
   "source": [
    "## Lasso Tuning"
   ]
  },
  {
   "cell_type": "code",
   "execution_count": 26,
   "metadata": {
    "id": "61l_VwcU1L5i"
   },
   "outputs": [],
   "source": [
    "# declaring empty dictionary to store LASSO CV scores\n",
    "lasso_cv_score_dict = {}\n",
    "\n",
    "# running a for loop to change alpha\n",
    "for i in np.linspace(0.1, 10, 50): # linspace creates a list from 0.1 to 10 and divides it into 50 equal parts\n",
    "  # setting up lasso model\n",
    "  lasso = Lasso(alpha = i, random_state = 42)\n",
    "\n",
    "  # fitting lasso model\n",
    "  lasso_cv_mse = cross_val_score(lasso, X_train, y_train, scoring= 'neg_mean_squared_error') # using default 10-fold\n",
    "\n",
    "  # adding cv_mse to list\n",
    "  lasso_cv_score_dict[i] = np.mean(abs(lasso_cv_mse)) # using alpha as a key, we're storing the avg MSEs to our dictionary"
   ]
  },
  {
   "cell_type": "code",
   "execution_count": 27,
   "metadata": {
    "colab": {
     "base_uri": "https://localhost:8080/",
     "height": 350
    },
    "id": "xbmaxBoo3B0C",
    "outputId": "ba0375a6-3a76-4190-ab02-91380d1f2917"
   },
   "outputs": [
    {
     "data": {
      "image/png": "[encoded data removed]",
      "text/plain": [
       "<Figure size 720x360 with 1 Axes>"
      ]
     },
     "metadata": {
      "needs_background": "light"
     },
     "output_type": "display_data"
    }
   ],
   "source": [
    "# plot our results on a graph to see which level of alpha yields the best MSE\n",
    "plt.figure(figsize = (10, 5)) # defining the figure/plot size\n",
    "plt.scatter(lasso_cv_score_dict.keys(), lasso_cv_score_dict.values()) # create a scatterplot \n",
    "plt.plot(list(lasso_cv_score_dict.keys()), list(lasso_cv_score_dict.values())) # connects the dots\n",
    "plt.title('Lasso CV MSE') # title our plot\n",
    "plt.xlabel('Alpha') # labels x-axis\n",
    "plt.ylabel('MSE') # labels y-axis\n",
    "plt.show() # prints/displays the plot"
   ]
  },
  {
   "cell_type": "markdown",
   "metadata": {},
   "source": [
    "From our results, it looks like an alpha of 0.1 or close to 0 yields the best MSE (score), closest to a linear regression."
   ]
  },
  {
   "cell_type": "markdown",
   "metadata": {
    "id": "urA_bIlj5Rb_"
   },
   "source": [
    "## Ridge"
   ]
  },
  {
   "cell_type": "code",
   "execution_count": 28,
   "metadata": {
    "id": "NyNyRcif5Rp1"
   },
   "outputs": [],
   "source": [
    "# declaring empty list to store cv_scores\n",
    "cv_score_dict_ridge = {}\n",
    "\n",
    "# running a for loop to change alpha\n",
    "for i in np.linspace(0.1, 50, 50): # linspace creates a list from 0.1 to 10 and divides it into 50 equal parts\n",
    "  # setting up lasso model\n",
    "  ridge = Ridge(alpha = i, random_state = 42) \n",
    "\n",
    "  # fitting lasso model\n",
    "  ridge_cv_mse = cross_val_score(ridge, X_train, y_train, scoring= 'neg_mean_squared_error') # using default 10-fold\n",
    "\n",
    "  # adding cv_mse to list\n",
    "  cv_score_dict_ridge[i] = np.mean(abs(ridge_cv_mse)) # appending our calculations into the dictionary"
   ]
  },
  {
   "cell_type": "code",
   "execution_count": 29,
   "metadata": {
    "colab": {
     "base_uri": "https://localhost:8080/",
     "height": 350
    },
    "id": "Rh3Op9iK5Rxh",
    "outputId": "ba183b95-aaf8-4c2c-96ea-17142882a5ec"
   },
   "outputs": [
    {
     "data": {
      "image/png": "[encoded data removed]",
      "text/plain": [
       "<Figure size 720x360 with 1 Axes>"
      ]
     },
     "metadata": {
      "needs_background": "light"
     },
     "output_type": "display_data"
    }
   ],
   "source": [
    "# plot our results on a graph to see which level of alpha yields the best MSE\n",
    "plt.figure(figsize = (10, 5)) # defining the figure/plot size\n",
    "plt.scatter(cv_score_dict_ridge.keys(), cv_score_dict_ridge.values()) # create a scatterplot \n",
    "plt.plot(list(cv_score_dict_ridge.keys()), list(cv_score_dict_ridge.values())) # connects the dots\n",
    "plt.title('Ridge CV MSE')  # title our plot\n",
    "plt.xlabel('Alpha') # labels x-axis\n",
    "plt.ylabel('MSE') # labels y-axis\n",
    "plt.show() # prints/displays the plot"
   ]
  },
  {
   "cell_type": "code",
   "execution_count": 30,
   "metadata": {
    "id": "oal1m5Zw5SBc"
   },
   "outputs": [
    {
     "data": {
      "text/plain": [
       "0.9210926894323643"
      ]
     },
     "execution_count": 30,
     "metadata": {},
     "output_type": "execute_result"
    }
   ],
   "source": [
    "# looks at the min. MSE score returned\n",
    "min(cv_score_dict_ridge.values())"
   ]
  },
  {
   "cell_type": "code",
   "execution_count": 31,
   "metadata": {},
   "outputs": [
    {
     "data": {
      "text/plain": [
       "{0.1: 0.9211036521202456,\n",
       " 1.1183673469387756: 0.9211021093429743,\n",
       " 2.136734693877551: 0.9211007305618877,\n",
       " 3.1551020408163266: 0.9210995018859659,\n",
       " 4.173469387755102: 0.9210984107244766,\n",
       " 5.191836734693878: 0.9210974456502816,\n",
       " 6.210204081632653: 0.9210965962792587,\n",
       " 7.228571428571428: 0.9210958531637253,\n",
       " 8.246938775510204: 0.9210952076980602,\n",
       " 9.26530612244898: 0.9210946520349685,\n",
       " 10.283673469387756: 0.9210941790110614,\n",
       " 11.30204081632653: 0.9210937820805988,\n",
       " 12.320408163265306: 0.9210934552563999,\n",
       " 13.338775510204082: 0.9210931930570645,\n",
       " 14.357142857142856: 0.9210929904597549,\n",
       " 15.375510204081632: 0.9210928428578896,\n",
       " 16.39387755102041: 0.9210927460231846,\n",
       " 17.412244897959184: 0.9210926960715426,\n",
       " 18.43061224489796: 0.9210926894323643,\n",
       " 19.448979591836736: 0.9210927228208956,\n",
       " 20.467346938775513: 0.921092793213283,\n",
       " 21.485714285714288: 0.921092897824041,\n",
       " 22.50408163265306: 0.9210930340856752,\n",
       " 23.52244897959184: 0.921093199630232,\n",
       " 24.540816326530614: 0.921093392272574,\n",
       " 25.559183673469388: 0.9210936099952038,\n",
       " 26.577551020408166: 0.9210938509344764,\n",
       " 27.59591836734694: 0.921094113368061,\n",
       " 28.614285714285714: 0.9210943957035267,\n",
       " 29.63265306122449: 0.9210946964679426,\n",
       " 30.651020408163266: 0.9210950142983906,\n",
       " 31.669387755102044: 0.9210953479333037,\n",
       " 32.68775510204082: 0.9210956962045527,\n",
       " 33.70612244897959: 0.921096058030207,\n",
       " 34.724489795918366: 0.9210964324079078,\n",
       " 35.74285714285715: 0.9210968184087983,\n",
       " 36.76122448979592: 0.9210972151719552,\n",
       " 37.779591836734696: 0.9210976218992821,\n",
       " 38.79795918367347: 0.9210980378508176,\n",
       " 39.816326530612244: 0.9210984623404233,\n",
       " 40.834693877551025: 0.9210988947318184,\n",
       " 41.8530612244898: 0.9210993344349296,\n",
       " 42.871428571428574: 0.9210997809025292,\n",
       " 43.88979591836735: 0.9211002336271363,\n",
       " 44.90816326530612: 0.921100692138159,\n",
       " 45.926530612244896: 0.9211011559992578,\n",
       " 46.94489795918368: 0.9211016248059078,\n",
       " 47.96326530612245: 0.9211020981831496,\n",
       " 48.981632653061226: 0.9211025757835085,\n",
       " 50.0: 0.921103057285068}"
      ]
     },
     "execution_count": 31,
     "metadata": {},
     "output_type": "execute_result"
    }
   ],
   "source": [
    "# look at corresponding level of alpha that matches the MSE above, in this case, alpha=18\n",
    "cv_score_dict_ridge"
   ]
  },
  {
   "cell_type": "markdown",
   "metadata": {},
   "source": [
    "So for Ridge, our  model returns the lowest MSE when we set our tuning parameter alpha (or \"lambda\") to 18, which has an MSE of 0.921. Compare that to our linear regression model, which has an MSE of 0.929."
   ]
  },
  {
   "cell_type": "markdown",
   "metadata": {
    "id": "urA_bIlj5Rb_"
   },
   "source": [
    "## Conclusion"
   ]
  },
  {
   "cell_type": "markdown",
   "metadata": {},
   "source": [
    "The best model is the Ridge regression with an tuning parameter of 18 (alpha or lamdba = 18)."
   ]
  },
  {
   "cell_type": "code",
   "execution_count": 32,
   "metadata": {
    "colab": {
     "base_uri": "https://localhost:8080/"
    },
    "id": "deg9Oof4axeV",
    "outputId": "3d0e98ca-e47d-47ad-ab2e-5d0fb9921505",
    "scrolled": true
   },
   "outputs": [
    {
     "data": {
      "text/plain": [
       "Ridge(alpha=18, random_state=42)"
      ]
     },
     "execution_count": 32,
     "metadata": {},
     "output_type": "execute_result"
    }
   ],
   "source": [
    "# setting up ridge model\n",
    "ridge = Ridge(alpha = 18, random_state = 42) # same as above, for but Ridge setting alpha=18 and random state=42\n",
    "\n",
    "# fitting lasso model\n",
    "ridge.fit(X_train, y_train) # best fit"
   ]
  },
  {
   "cell_type": "code",
   "execution_count": 33,
   "metadata": {
    "colab": {
     "base_uri": "https://localhost:8080/"
    },
    "id": "0ZxrYeiya1xC",
    "outputId": "1773550c-85ae-4911-b520-6f1392c77ec7"
   },
   "outputs": [
    {
     "name": "stdout",
     "output_type": "stream",
     "text": [
      "Ridge Model Train MSE: 0.9188054829357646\n",
      "Ridge Model Test MSE: 0.9296234869456405\n"
     ]
    }
   ],
   "source": [
    "# let's look at the prediction scores\n",
    "# predicting on the training and testing data, y-hats\n",
    "y_train_pred_ridge = ridge.predict(X_train)\n",
    "y_test_pred_ridge = ridge.predict(X_test)\n",
    "\n",
    "# calculating MSE scores\n",
    "ridge_mse_train = mean_squared_error(y_train, y_train_pred_ridge)\n",
    "ridge_mse_test = mean_squared_error(y_test, y_test_pred_ridge)\n",
    "\n",
    "# displaying the scores\n",
    "print(f'Ridge Model Train MSE: {ridge_mse_train}')\n",
    "print(f'Ridge Model Test MSE: {ridge_mse_test}')"
   ]
  },
  {
   "cell_type": "markdown",
   "metadata": {
    "id": "nENhHq65bJq8"
   },
   "source": [
    "The best model is the Ridge regression with a lambda of 18. "
   ]
  },
  {
   "cell_type": "markdown",
   "metadata": {},
   "source": [
    "   ## Question 2.\n",
    "   "
   ]
  },
  {
   "cell_type": "markdown",
   "metadata": {},
   "source": [
    "### Constructing a graphical illustration of the relative importance of different features in final model."
   ]
  },
  {
   "cell_type": "code",
   "execution_count": 34,
   "metadata": {
    "scrolled": true
   },
   "outputs": [
    {
     "data": {
      "text/plain": [
       "array([ 2.16616764e-01,  1.77502625e-02, -1.68006747e-03,  3.52240395e-05,\n",
       "       -8.17954047e-08,  1.47059743e-01,  2.89471091e-01, -1.56048640e-01,\n",
       "        1.15136490e-01, -8.89218559e-02, -1.84356370e-02,  1.61136036e-02,\n",
       "       -1.54970537e-02])"
      ]
     },
     "execution_count": 34,
     "metadata": {},
     "output_type": "execute_result"
    }
   ],
   "source": [
    "ridge.coef_ # Displays beta values"
   ]
  },
  {
   "cell_type": "code",
   "execution_count": 52,
   "metadata": {},
   "outputs": [
    {
     "data": {
      "image/png": "[encoded data removed]",
      "text/plain": [
       "<Figure size 864x576 with 1 Axes>"
      ]
     },
     "metadata": {
      "needs_background": "light"
     },
     "output_type": "display_data"
    }
   ],
   "source": [
    "plt.figure(figsize = (12, 8))\n",
    "plt.bar(X_train.columns, ridge.coef_)\n",
    "plt.xlabel('Variables')\n",
    "plt.ylabel('Beta Values')\n",
    "plt.show()"
   ]
  },
  {
   "cell_type": "markdown",
   "metadata": {},
   "source": [
    "## Prediction Competition Test Set"
   ]
  },
  {
   "cell_type": "code",
   "execution_count": 37,
   "metadata": {},
   "outputs": [],
   "source": [
    "# Loading the data\n",
    "test_df = pd.read_csv(\"C:\\\\Users\\\\s64wa\\\\Dropbox\\\\Dropbox\\\\1_Chloe's Content\\\\1. UW\\\\2. Graduate\\\\5. 2021 Winter\\\\5. Econ 626 - Machine Learning for Economics\\\\4Z. assignment2_testdata (1).csv\")\n"
   ]
  },
  {
   "cell_type": "code",
   "execution_count": 39,
   "metadata": {},
   "outputs": [
    {
     "data": {
      "text/html": [
       "<div>\n",
       "<style scoped>\n",
       "    .dataframe tbody tr th:only-of-type {\n",
       "        vertical-align: middle;\n",
       "    }\n",
       "\n",
       "    .dataframe tbody tr th {\n",
       "        vertical-align: top;\n",
       "    }\n",
       "\n",
       "    .dataframe thead th {\n",
       "        text-align: right;\n",
       "    }\n",
       "</style>\n",
       "<table border=\"1\" class=\"dataframe\">\n",
       "  <thead>\n",
       "    <tr style=\"text-align: right;\">\n",
       "      <th></th>\n",
       "      <th>LOGVALUE</th>\n",
       "      <th>BATHS</th>\n",
       "      <th>BEDRMS</th>\n",
       "      <th>BUILT</th>\n",
       "      <th>UNITSF</th>\n",
       "      <th>LOT</th>\n",
       "      <th>ROOMS</th>\n",
       "      <th>REGION</th>\n",
       "      <th>KITCHEN</th>\n",
       "      <th>FLOORS</th>\n",
       "      <th>LAUNDY</th>\n",
       "      <th>RECRM</th>\n",
       "      <th>METRO</th>\n",
       "      <th>METRO3</th>\n",
       "    </tr>\n",
       "  </thead>\n",
       "  <tbody>\n",
       "    <tr>\n",
       "      <th>0</th>\n",
       "      <td>12.345835</td>\n",
       "      <td>2</td>\n",
       "      <td>3</td>\n",
       "      <td>1919</td>\n",
       "      <td>1300.0</td>\n",
       "      <td>15900.0</td>\n",
       "      <td>7</td>\n",
       "      <td>1</td>\n",
       "      <td>1</td>\n",
       "      <td>3</td>\n",
       "      <td>0</td>\n",
       "      <td>0</td>\n",
       "      <td>7</td>\n",
       "      <td>2</td>\n",
       "    </tr>\n",
       "    <tr>\n",
       "      <th>1</th>\n",
       "      <td>13.122363</td>\n",
       "      <td>3</td>\n",
       "      <td>4</td>\n",
       "      <td>1960</td>\n",
       "      <td>3000.0</td>\n",
       "      <td>44000.0</td>\n",
       "      <td>10</td>\n",
       "      <td>3</td>\n",
       "      <td>1</td>\n",
       "      <td>2</td>\n",
       "      <td>0</td>\n",
       "      <td>0</td>\n",
       "      <td>7</td>\n",
       "      <td>9</td>\n",
       "    </tr>\n",
       "    <tr>\n",
       "      <th>2</th>\n",
       "      <td>12.429216</td>\n",
       "      <td>1</td>\n",
       "      <td>3</td>\n",
       "      <td>1975</td>\n",
       "      <td>3100.0</td>\n",
       "      <td>44000.0</td>\n",
       "      <td>7</td>\n",
       "      <td>2</td>\n",
       "      <td>1</td>\n",
       "      <td>3</td>\n",
       "      <td>0</td>\n",
       "      <td>0</td>\n",
       "      <td>7</td>\n",
       "      <td>2</td>\n",
       "    </tr>\n",
       "    <tr>\n",
       "      <th>3</th>\n",
       "      <td>12.154779</td>\n",
       "      <td>1</td>\n",
       "      <td>2</td>\n",
       "      <td>1940</td>\n",
       "      <td>1480.0</td>\n",
       "      <td>2450.0</td>\n",
       "      <td>4</td>\n",
       "      <td>4</td>\n",
       "      <td>1</td>\n",
       "      <td>2</td>\n",
       "      <td>0</td>\n",
       "      <td>0</td>\n",
       "      <td>1</td>\n",
       "      <td>1</td>\n",
       "    </tr>\n",
       "    <tr>\n",
       "      <th>4</th>\n",
       "      <td>11.156251</td>\n",
       "      <td>2</td>\n",
       "      <td>3</td>\n",
       "      <td>2000</td>\n",
       "      <td>1200.0</td>\n",
       "      <td>11000.0</td>\n",
       "      <td>6</td>\n",
       "      <td>3</td>\n",
       "      <td>1</td>\n",
       "      <td>2</td>\n",
       "      <td>0</td>\n",
       "      <td>0</td>\n",
       "      <td>7</td>\n",
       "      <td>2</td>\n",
       "    </tr>\n",
       "  </tbody>\n",
       "</table>\n",
       "</div>"
      ],
      "text/plain": [
       "    LOGVALUE  BATHS  BEDRMS  BUILT  UNITSF      LOT  ROOMS  REGION  KITCHEN  \\\n",
       "0  12.345835      2       3   1919  1300.0  15900.0      7       1        1   \n",
       "1  13.122363      3       4   1960  3000.0  44000.0     10       3        1   \n",
       "2  12.429216      1       3   1975  3100.0  44000.0      7       2        1   \n",
       "3  12.154779      1       2   1940  1480.0   2450.0      4       4        1   \n",
       "4  11.156251      2       3   2000  1200.0  11000.0      6       3        1   \n",
       "\n",
       "   FLOORS  LAUNDY  RECRM  METRO  METRO3  \n",
       "0       3       0      0      7       2  \n",
       "1       2       0      0      7       9  \n",
       "2       3       0      0      7       2  \n",
       "3       2       0      0      1       1  \n",
       "4       2       0      0      7       2  "
      ]
     },
     "execution_count": 39,
     "metadata": {},
     "output_type": "execute_result"
    }
   ],
   "source": [
    "# Looking at the first five rows of the data\n",
    "test_df.head()"
   ]
  },
  {
   "cell_type": "code",
   "execution_count": 41,
   "metadata": {},
   "outputs": [],
   "source": [
    "# Defining x and y variables\n",
    "Xtestset = test_df.loc[:, 'BATHS':] # all rows, and columns from BATHS onwards, loc lets you do that\n",
    "ytestset = test_df['LOGVALUE']"
   ]
  },
  {
   "cell_type": "code",
   "execution_count": 43,
   "metadata": {},
   "outputs": [],
   "source": [
    "# Use model to estimate y_hat\n",
    "ytestset_prediction = ridge.predict(Xtestset)"
   ]
  },
  {
   "cell_type": "code",
   "execution_count": 44,
   "metadata": {},
   "outputs": [],
   "source": [
    "# Calculate MSE of test set\n",
    "testset_MSE = mean_squared_error(ytestset, ytestset_prediction)"
   ]
  },
  {
   "cell_type": "code",
   "execution_count": 45,
   "metadata": {},
   "outputs": [
    {
     "data": {
      "text/plain": [
       "0.7898122641058272"
      ]
     },
     "execution_count": 45,
     "metadata": {},
     "output_type": "execute_result"
    }
   ],
   "source": [
    "testset_MSE # Display output"
   ]
  },
  {
   "cell_type": "code",
   "execution_count": 46,
   "metadata": {},
   "outputs": [],
   "source": [
    "# Calculate R-squared of test set\n",
    "testset_Rsq = r2_score(ytestset, ytestset_prediction)"
   ]
  },
  {
   "cell_type": "code",
   "execution_count": 47,
   "metadata": {},
   "outputs": [
    {
     "data": {
      "text/plain": [
       "0.2600248756487906"
      ]
     },
     "execution_count": 47,
     "metadata": {},
     "output_type": "execute_result"
    }
   ],
   "source": [
    "testset_Rsq # Display output"
   ]
  },
  {
   "cell_type": "code",
   "execution_count": 48,
   "metadata": {},
   "outputs": [],
   "source": [
    "# Calculate MSE and R-squared of validation set\n",
    "ridge_mse_test = mean_squared_error(y_test, y_test_pred_ridge)\n",
    "validationset_Rsq = r2_score(y_test, y_test_pred_ridge)"
   ]
  },
  {
   "cell_type": "code",
   "execution_count": 49,
   "metadata": {},
   "outputs": [
    {
     "data": {
      "text/plain": [
       "0.9296234869456405"
      ]
     },
     "execution_count": 49,
     "metadata": {},
     "output_type": "execute_result"
    }
   ],
   "source": [
    "ridge_mse_test # Display output"
   ]
  },
  {
   "cell_type": "code",
   "execution_count": 50,
   "metadata": {},
   "outputs": [
    {
     "data": {
      "text/plain": [
       "0.22517792444125462"
      ]
     },
     "execution_count": 50,
     "metadata": {},
     "output_type": "execute_result"
    }
   ],
   "source": [
    "validationset_Rsq # Display output"
   ]
  }
 ],
 "metadata": {
  "colab": {
   "collapsed_sections": [
    "P6mKXciAY3ov",
    "AfjfvMyvav1G"
   ],
   "name": "Assignment_2.ipynb",
   "provenance": []
  },
  "kernelspec": {
   "display_name": "Python 3",
   "language": "python",
   "name": "python3"
  },
  "language_info": {
   "codemirror_mode": {
    "name": "ipython",
    "version": 3
   },
   "file_extension": ".py",
   "mimetype": "text/x-python",
   "name": "python",
   "nbconvert_exporter": "python",
   "pygments_lexer": "ipython3",
   "version": "3.8.3"
  },
  "widgets": {
   "application/vnd.jupyter.widget-state+json": {
    "006fccc0fd2e4fbba8eda12de5643cd4": {
     "model_module": "@jupyter-widgets/base",
     "model_name": "LayoutModel",
     "state": {
      "_model_module": "@jupyter-widgets/base",
      "_model_module_version": "1.2.0",
      "_model_name": "LayoutModel",
      "_view_count": null,
      "_view_module": "@jupyter-widgets/base",
      "_view_module_version": "1.2.0",
      "_view_name": "LayoutView",
      "align_content": null,
      "align_items": null,
      "align_self": null,
      "border": null,
      "bottom": null,
      "display": null,
      "flex": null,
      "flex_flow": null,
      "grid_area": null,
      "grid_auto_columns": null,
      "grid_auto_flow": null,
      "grid_auto_rows": null,
      "grid_column": null,
      "grid_gap": null,
      "grid_row": null,
      "grid_template_areas": null,
      "grid_template_columns": null,
      "grid_template_rows": null,
      "height": null,
      "justify_content": null,
      "justify_items": null,
      "left": null,
      "margin": null,
      "max_height": null,
      "max_width": null,
      "min_height": null,
      "min_width": null,
      "object_fit": null,
      "object_position": null,
      "order": null,
      "overflow": null,
      "overflow_x": null,
      "overflow_y": null,
      "padding": null,
      "right": null,
      "top": null,
      "visibility": null,
      "width": null
     }
    },
    "57b2223bd7264270bac4ea4ce989e3d4": {
     "model_module": "@jupyter-widgets/controls",
     "model_name": "ProgressStyleModel",
     "state": {
      "_model_module": "@jupyter-widgets/controls",
      "_model_module_version": "1.5.0",
      "_model_name": "ProgressStyleModel",
      "_view_count": null,
      "_view_module": "@jupyter-widgets/base",
      "_view_module_version": "1.2.0",
      "_view_name": "StyleView",
      "bar_color": null,
      "description_width": ""
     }
    },
    "5a81e088f07c43bca9e49dcc99612cf2": {
     "model_module": "@jupyter-widgets/controls",
     "model_name": "IntProgressModel",
     "state": {
      "_dom_classes": [],
      "_model_module": "@jupyter-widgets/controls",
      "_model_module_version": "1.5.0",
      "_model_name": "IntProgressModel",
      "_view_count": null,
      "_view_module": "@jupyter-widgets/controls",
      "_view_module_version": "1.5.0",
      "_view_name": "ProgressView",
      "bar_style": "",
      "description": "Processing: ",
      "description_tooltip": null,
      "layout": "IPY_MODEL_9212e0be7eb3466f88e18e7973bbf84e",
      "max": 24,
      "min": 0,
      "orientation": "horizontal",
      "style": "IPY_MODEL_940aee5875a645c4aa9910b7676c8bb6",
      "value": 24
     }
    },
    "9212e0be7eb3466f88e18e7973bbf84e": {
     "model_module": "@jupyter-widgets/base",
     "model_name": "LayoutModel",
     "state": {
      "_model_module": "@jupyter-widgets/base",
      "_model_module_version": "1.2.0",
      "_model_name": "LayoutModel",
      "_view_count": null,
      "_view_module": "@jupyter-widgets/base",
      "_view_module_version": "1.2.0",
      "_view_name": "LayoutView",
      "align_content": null,
      "align_items": null,
      "align_self": null,
      "border": null,
      "bottom": null,
      "display": null,
      "flex": null,
      "flex_flow": null,
      "grid_area": null,
      "grid_auto_columns": null,
      "grid_auto_flow": null,
      "grid_auto_rows": null,
      "grid_column": null,
      "grid_gap": null,
      "grid_row": null,
      "grid_template_areas": null,
      "grid_template_columns": null,
      "grid_template_rows": null,
      "height": null,
      "justify_content": null,
      "justify_items": null,
      "left": null,
      "margin": null,
      "max_height": null,
      "max_width": null,
      "min_height": null,
      "min_width": null,
      "object_fit": null,
      "object_position": null,
      "order": null,
      "overflow": null,
      "overflow_x": null,
      "overflow_y": null,
      "padding": null,
      "right": null,
      "top": null,
      "visibility": null,
      "width": null
     }
    },
    "940aee5875a645c4aa9910b7676c8bb6": {
     "model_module": "@jupyter-widgets/controls",
     "model_name": "ProgressStyleModel",
     "state": {
      "_model_module": "@jupyter-widgets/controls",
      "_model_module_version": "1.5.0",
      "_model_name": "ProgressStyleModel",
      "_view_count": null,
      "_view_module": "@jupyter-widgets/base",
      "_view_module_version": "1.2.0",
      "_view_name": "StyleView",
      "bar_color": null,
      "description_width": ""
     }
    },
    "9c3cf64f6738499087bc10d461cead1f": {
     "model_module": "@jupyter-widgets/controls",
     "model_name": "DescriptionStyleModel",
     "state": {
      "_model_module": "@jupyter-widgets/controls",
      "_model_module_version": "1.5.0",
      "_model_name": "DescriptionStyleModel",
      "_view_count": null,
      "_view_module": "@jupyter-widgets/base",
      "_view_module_version": "1.2.0",
      "_view_name": "StyleView",
      "description_width": ""
     }
    },
    "aae9ed749bb24b4d9691e0c051afe732": {
     "model_module": "@jupyter-widgets/controls",
     "model_name": "TextModel",
     "state": {
      "_dom_classes": [],
      "_model_module": "@jupyter-widgets/controls",
      "_model_module_version": "1.5.0",
      "_model_name": "TextModel",
      "_view_count": null,
      "_view_module": "@jupyter-widgets/controls",
      "_view_module_version": "1.5.0",
      "_view_name": "TextView",
      "continuous_update": true,
      "description": "",
      "description_tooltip": null,
      "disabled": false,
      "layout": "IPY_MODEL_d0e1b03475544e78839de4bc59350c0c",
      "placeholder": "​",
      "style": "IPY_MODEL_9c3cf64f6738499087bc10d461cead1f",
      "value": "Following data types have been inferred automatically, if they are correct press enter to continue or type 'quit' otherwise."
     }
    },
    "c4bfb79095b2413a9759943b4005f5e4": {
     "model_module": "@jupyter-widgets/controls",
     "model_name": "IntProgressModel",
     "state": {
      "_dom_classes": [],
      "_model_module": "@jupyter-widgets/controls",
      "_model_module_version": "1.5.0",
      "_model_name": "IntProgressModel",
      "_view_count": null,
      "_view_module": "@jupyter-widgets/controls",
      "_view_module_version": "1.5.0",
      "_view_name": "ProgressView",
      "bar_style": "",
      "description": "Processing: ",
      "description_tooltip": null,
      "layout": "IPY_MODEL_006fccc0fd2e4fbba8eda12de5643cd4",
      "max": 3,
      "min": 0,
      "orientation": "horizontal",
      "style": "IPY_MODEL_57b2223bd7264270bac4ea4ce989e3d4",
      "value": 3
     }
    },
    "d0e1b03475544e78839de4bc59350c0c": {
     "model_module": "@jupyter-widgets/base",
     "model_name": "LayoutModel",
     "state": {
      "_model_module": "@jupyter-widgets/base",
      "_model_module_version": "1.2.0",
      "_model_name": "LayoutModel",
      "_view_count": null,
      "_view_module": "@jupyter-widgets/base",
      "_view_module_version": "1.2.0",
      "_view_name": "LayoutView",
      "align_content": null,
      "align_items": null,
      "align_self": null,
      "border": null,
      "bottom": null,
      "display": null,
      "flex": null,
      "flex_flow": null,
      "grid_area": null,
      "grid_auto_columns": null,
      "grid_auto_flow": null,
      "grid_auto_rows": null,
      "grid_column": null,
      "grid_gap": null,
      "grid_row": null,
      "grid_template_areas": null,
      "grid_template_columns": null,
      "grid_template_rows": null,
      "height": null,
      "justify_content": null,
      "justify_items": null,
      "left": null,
      "margin": null,
      "max_height": null,
      "max_width": null,
      "min_height": null,
      "min_width": null,
      "object_fit": null,
      "object_position": null,
      "order": null,
      "overflow": null,
      "overflow_x": null,
      "overflow_y": null,
      "padding": null,
      "right": null,
      "top": null,
      "visibility": null,
      "width": "100%"
     }
    }
   }
  }
 },
 "nbformat": 4,
 "nbformat_minor": 1
}
